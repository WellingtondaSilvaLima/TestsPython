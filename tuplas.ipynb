{
 "cells": [
  {
   "cell_type": "markdown",
   "metadata": {},
   "source": [
    "# EXERCÍCIOS"
   ]
  },
  {
   "cell_type": "code",
   "execution_count": 3,
   "metadata": {},
   "outputs": [],
   "source": [
    "vendas = [\n",
    "    ('20/08/2020', 'iphone x', 'azul', '128gb', 350, 4000),\n",
    "    ('20/08/2020', 'iphone x', 'prata', '128gb', 1500, 4000),\n",
    "    ('20/08/2020', 'ipad', 'prata', '256gb', 127, 6000),\n",
    "    ('20/08/2020', 'ipad', 'prata', '128gb', 981, 5000),\n",
    "    ('21/08/2020', 'iphone x', 'azul', '128gb', 397, 4000),\n",
    "    ('21/08/2020', 'iphone x', 'prata', '128gb', 1017, 4000),\n",
    "    ('21/08/2020', 'ipad', 'prata', '256gb', 50, 6000),\n",
    "    ('21/08/2020', 'ipad', 'prata', '128gb', 4000, 5000),\n",
    "]"
   ]
  },
  {
   "cell_type": "code",
   "execution_count": 5,
   "metadata": {},
   "outputs": [
    {
     "name": "stdout",
     "output_type": "stream",
     "text": [
      "O faturamento de iPhone no dia 20/08/2020 foi de 7,400,000.00.\n"
     ]
    }
   ],
   "source": [
    "# Qual foi o faturamento de IPhone no dia 20/08/2020?\n",
    "faturamento = 0\n",
    "for item in vendas:\n",
    "    data, produto, cor, tamanho, unidades, valor = item\n",
    "    if produto == 'iphone x' and data == '20/08/2020':\n",
    "        faturamento += unidades * valor\n",
    "\n",
    "print(f'O faturamento de iPhone no dia 20/08/2020 foi de {faturamento:,.2f}.')"
   ]
  },
  {
   "cell_type": "code",
   "execution_count": 9,
   "metadata": {},
   "outputs": [
    {
     "name": "stdout",
     "output_type": "stream",
     "text": [
      "O produto mais vendido no dia 21/08/2020 foi o ipad com 4,000.\n"
     ]
    }
   ],
   "source": [
    "# Qual foi o produto mais vendido (em unidades) no dia 21/08/2020?\n",
    "unidades_vendidas = 0\n",
    "produto_mais_vendido = ''\n",
    "for item in vendas:\n",
    "    data, produto, cor, tamanho, unidades, valor = item\n",
    "    if data == '21/08/2020':\n",
    "        if unidades > unidades_vendidas:\n",
    "            unidades_vendidas = unidades\n",
    "            produto_mais_vendido = produto\n",
    "\n",
    "print(f'O produto mais vendido no dia 21/08/2020 foi o {produto_mais_vendido} com {unidades_vendidas:,}.')"
   ]
  },
  {
   "cell_type": "code",
   "execution_count": null,
   "metadata": {},
   "outputs": [],
   "source": []
  }
 ],
 "metadata": {
  "kernelspec": {
   "display_name": "venv",
   "language": "python",
   "name": "python3"
  },
  "language_info": {
   "codemirror_mode": {
    "name": "ipython",
    "version": 3
   },
   "file_extension": ".py",
   "mimetype": "text/x-python",
   "name": "python",
   "nbconvert_exporter": "python",
   "pygments_lexer": "ipython3",
   "version": "3.11.4"
  }
 },
 "nbformat": 4,
 "nbformat_minor": 2
}
